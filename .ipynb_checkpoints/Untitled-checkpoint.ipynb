{
 "cells": [
  {
   "cell_type": "markdown",
   "metadata": {},
   "source": [
    "# Sketch App"
   ]
  },
  {
   "cell_type": "code",
   "execution_count": 2,
   "metadata": {
    "collapsed": true
   },
   "outputs": [],
   "source": [
    "import cv2\n",
    "import numpy as np\n",
    "\n",
    "#Our Sketch generating function\n",
    "def sketch(image):\n",
    "    #convert image to grayscale\n",
    "    img_gray=cv2.cvtColor(image,cv2.COLOR_BGR2GRAY)\n",
    "    \n",
    "    #clean up image using gaussian blur \n",
    "    img_gray_blur=cv2.GaussianBlur(img_gray,(5,5),0)\n",
    "    \n",
    "    #Extract edges\n",
    "    canny=cv2.Canny(img_gray_blur,30,80)\n",
    "    \n",
    "    #Do an invert binarize the image\n",
    "    ret,mask=cv2.threshold(canny,70,255,cv2.THRESH_BINARY_INV)\n",
    "    return mask\n",
    "\n",
    "#Initialize Webcam, cap is the object provided by VideoCapture()\n",
    "#It contains a boolean indicating if it was sucessfull\n",
    "#It also contains the images collected from the webcam (frame)\n",
    "\n",
    "cap=cv2.VideoCapture(0)\n",
    "\n",
    "while True:\n",
    "    ret,frame=cap.read()\n",
    "    cv2.imshow(\"Our Live Sketcher\",sketch(frame))\n",
    "    if cv2.waitKey(1)==13: #13 is the enter key\n",
    "        break\n",
    "        \n",
    "# Release camera and close windows\n",
    "cap.release()\n",
    "cv2.destroyAllWindows()\n",
    "\n",
    "    "
   ]
  },
  {
   "cell_type": "code",
   "execution_count": null,
   "metadata": {
    "collapsed": true
   },
   "outputs": [],
   "source": []
  }
 ],
 "metadata": {
  "kernelspec": {
   "display_name": "Python 3",
   "language": "python",
   "name": "python3"
  },
  "language_info": {
   "codemirror_mode": {
    "name": "ipython",
    "version": 3
   },
   "file_extension": ".py",
   "mimetype": "text/x-python",
   "name": "python",
   "nbconvert_exporter": "python",
   "pygments_lexer": "ipython3",
   "version": "3.6.3"
  }
 },
 "nbformat": 4,
 "nbformat_minor": 2
}
