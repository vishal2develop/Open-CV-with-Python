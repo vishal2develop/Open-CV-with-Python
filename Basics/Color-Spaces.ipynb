{
 "cells": [
  {
   "cell_type": "markdown",
   "metadata": {},
   "source": [
    "# Grayscaling\n",
    "It is the process by which an image is converted from a full color to shades of grey (black & white). It simplifies the image, almost reduces noise and processsing time\n"
   ]
  },
  {
   "cell_type": "markdown",
   "metadata": {},
   "source": [
    "# Covert image to greyscale"
   ]
  },
  {
   "cell_type": "code",
   "execution_count": 3,
   "metadata": {},
   "outputs": [
    {
     "data": {
      "text/plain": [
       "27"
      ]
     },
     "execution_count": 3,
     "metadata": {},
     "output_type": "execute_result"
    }
   ],
   "source": [
    "import cv2\n",
    "# Load image\n",
    "input= cv2.imread('./images/input.jpg')\n",
    "cv2.imshow('Original Image', input)\n",
    "cv2.waitKey()\n"
   ]
  },
  {
   "cell_type": "code",
   "execution_count": 4,
   "metadata": {
    "collapsed": true
   },
   "outputs": [],
   "source": [
    "#Convert to grayscale\n",
    "grey=cv2.cvtColor(input, cv2.COLOR_BGR2GRAY)\n",
    "cv2.imshow(\"Grayscale image\", grey)\n",
    "cv2.waitKey()\n",
    "cv2.destroyAllWindows()"
   ]
  },
  {
   "cell_type": "code",
   "execution_count": 5,
   "metadata": {
    "collapsed": true
   },
   "outputs": [],
   "source": [
    "#Another Faster method\n",
    "img=cv2.imread('./images/input.jpg',0)\n",
    "cv2.imshow('Grayscale image', img)\n",
    "cv2.waitKey()\n",
    "cv2.destroyAllWindows()\n",
    "\n"
   ]
  },
  {
   "cell_type": "markdown",
   "metadata": {},
   "source": [
    "# Color Spaces \n",
    "RGB\n",
    "BGR\n",
    "HSV"
   ]
  },
  {
   "cell_type": "code",
   "execution_count": 13,
   "metadata": {},
   "outputs": [
    {
     "name": "stdout",
     "output_type": "stream",
     "text": [
      "144 202 137\n",
      "(350, 350, 3)\n"
     ]
    }
   ],
   "source": [
    "#load image\n",
    "import cv2\n",
    "import numpy as np\n",
    "image=cv2.imread('./images/input.jpg')\n",
    "\n",
    "#BGR values for the first 0,0 pixel\n",
    "B, G, R=image[100,88]\n",
    "print (B, G, R)\n",
    "print(image.shape)"
   ]
  },
  {
   "cell_type": "code",
   "execution_count": 14,
   "metadata": {},
   "outputs": [
    {
     "name": "stdout",
     "output_type": "stream",
     "text": [
      "(350, 350)\n",
      "176\n"
     ]
    }
   ],
   "source": [
    "#convert to grayscale\n",
    "gray=cv2.cvtColor(image, cv2.COLOR_BGR2GRAY)\n",
    "print(gray.shape)\n",
    "print (gray[100,88])"
   ]
  },
  {
   "cell_type": "markdown",
   "metadata": {},
   "source": [
    "# HSV Color Space\n",
    "Useful in color filtering"
   ]
  },
  {
   "cell_type": "code",
   "execution_count": 1,
   "metadata": {
    "collapsed": true
   },
   "outputs": [],
   "source": [
    "#H: 0-180, S: 0-255, V: 0-255\n",
    "import cv2\n",
    "import numpy as np\n",
    "\n",
    "image=cv2.imread('./images/input.jpg')\n",
    "hsv= cv2.cvtColor(image, cv2.COLOR_BGR2HSV)\n",
    "cv2.imshow(\"HSV Image\", hsv)\n",
    "cv2.imshow(\"HUE Channel\", hsv[:,:,0])\n",
    "cv2.imshow(\"Saturation Channel\", hsv[:,:,1])\n",
    "cv2.imshow(\"Value Channel\", hsv[:,:,2])\n",
    "cv2.waitKey()\n",
    "cv2.destroyAllWindows()\n",
    "\n"
   ]
  },
  {
   "cell_type": "markdown",
   "metadata": {},
   "source": [
    "# Lets Explore Individual Channel in an RGB Image\n"
   ]
  },
  {
   "cell_type": "code",
   "execution_count": 6,
   "metadata": {},
   "outputs": [
    {
     "name": "stdout",
     "output_type": "stream",
     "text": [
      "(350, 350)\n"
     ]
    }
   ],
   "source": [
    "image=cv2.imread('./images/input.jpg')\n",
    "#OpenCv's 'split' function splits the image into each color index\n",
    "B, G, R=cv2.split(image)\n",
    "print (B.shape)\n",
    "cv2.imshow(\"RED\", R)\n",
    "cv2.imshow(\"GREEN\", G)\n",
    "cv2.imshow(\"BLUE\", B)\n",
    "cv2.waitKey(0)\n",
    "cv2.destroyAllWindows()\n",
    "\n",
    "# Let's remake the oroginal image using 'merge' function\n",
    "merged=cv2.merge([B,G,R])\n",
    "cv2.imshow(\"Merged\", merged)\n",
    "cv2.waitKey(0)\n",
    "cv2.destroyAllWindows()\n",
    "\n",
    "#Let's aplify the blue color\n",
    "merged=cv2.merge([B+100,G,R])\n",
    "cv2.imshow(\"Merged with blue amplified\", merged)\n",
    "cv2.imwrite('merged.jpg',merged)\n",
    "cv2.waitKey(0)\n",
    "cv2.destroyAllWindows()\n",
    "\n"
   ]
  },
  {
   "cell_type": "markdown",
   "metadata": {},
   "source": [
    "# What if you want to see R,G,B formats in their original colors and not in Grayscale format?\n",
    "We will np.zeros array for the same"
   ]
  },
  {
   "cell_type": "code",
   "execution_count": 7,
   "metadata": {
    "collapsed": true
   },
   "outputs": [],
   "source": [
    "B, G, R=cv2.split(image)\n",
    "#Let's create a matrix of zeros\n",
    "#with dimensions of the image h x w\n",
    "zeros= np.zeros(image.shape[:2], dtype= \"uint8\") #creating an array of zeros of the same shape as the image\n",
    "cv2.imshow(\"RED\", cv2.merge([zeros,zeros,R])) # merging the zeros array with the RED value\n",
    "cv2.imshow(\"Green\", cv2.merge([zeros,G,zeros]))\n",
    "cv2.imshow(\"Blue\", cv2.merge([B,zeros,zeros]))\n",
    "cv2.waitKey(0)\n",
    "cv2.destroyAllWindows()\n",
    "\n"
   ]
  },
  {
   "cell_type": "code",
   "execution_count": null,
   "metadata": {
    "collapsed": true
   },
   "outputs": [],
   "source": []
  }
 ],
 "metadata": {
  "kernelspec": {
   "display_name": "Python 3",
   "language": "python",
   "name": "python3"
  },
  "language_info": {
   "codemirror_mode": {
    "name": "ipython",
    "version": 3
   },
   "file_extension": ".py",
   "mimetype": "text/x-python",
   "name": "python",
   "nbconvert_exporter": "python",
   "pygments_lexer": "ipython3",
   "version": "3.6.3"
  }
 },
 "nbformat": 4,
 "nbformat_minor": 2
}
