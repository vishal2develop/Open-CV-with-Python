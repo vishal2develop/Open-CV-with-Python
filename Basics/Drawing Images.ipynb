{
 "cells": [
  {
   "cell_type": "markdown",
   "metadata": {},
   "source": [
    "# Drawing Images and shapes using OpenCV\n",
    "Lets start by making a black square"
   ]
  },
  {
   "cell_type": "code",
   "execution_count": 2,
   "metadata": {
    "collapsed": true
   },
   "outputs": [],
   "source": [
    "import cv2\n",
    "import numpy as np\n",
    "\n",
    "#create a black image\n",
    "image=np.zeros((512,512,3), np.uint8)\n",
    "\n",
    "cv2.imshow(\"Black Square\",image)\n",
    "\n",
    "#Make it black and white\n",
    "\n",
    "image_bw=np.zeros((512,512), np.uint8)\n",
    "cv2.imshow(\"B&W Square\",image_bw)\n",
    "cv2.waitKey()\n",
    "cv2.destroyAllWindows()\n",
    "\n"
   ]
  },
  {
   "cell_type": "markdown",
   "metadata": {},
   "source": [
    "# Lets Draw a line over our black square\n",
    "cv2.line(image,starting coord,ending coord,color,thickness)"
   ]
  },
  {
   "cell_type": "code",
   "execution_count": 3,
   "metadata": {
    "collapsed": true
   },
   "outputs": [],
   "source": [
    "#Draw a diagonal blue line of thickness of 5 pixels\n",
    "\n",
    "image=np.zeros((512,512,3),np.uint8)\n",
    "cv2.line(image,(0,0),(511,511),(255,127,0),5)\n",
    "cv2.imshow(\"Blue Line\",image)\n",
    "cv2.waitKey()\n",
    "cv2.destroyAllWindows()\n"
   ]
  },
  {
   "cell_type": "markdown",
   "metadata": {},
   "source": [
    "# Lets draw a rectangle \n",
    "cv2.rectangle(image,starting vertex,opposite vertex,color,thickness)"
   ]
  },
  {
   "cell_type": "code",
   "execution_count": 4,
   "metadata": {
    "collapsed": true
   },
   "outputs": [],
   "source": [
    "#Draw a rectangle\n",
    "image=np.zeros((512,512,3),np.uint8)\n",
    "cv2.rectangle(image,(100,100),(300,250),(127,50,127),5)\n",
    "cv2.imshow(\"Rectangle\", image)\n",
    "cv2.waitKey()\n",
    "cv2.destroyAllWindows()\n"
   ]
  },
  {
   "cell_type": "markdown",
   "metadata": {},
   "source": [
    "# How about circles?\n",
    "cv2.circle(image,center,radius,color,thickness)"
   ]
  },
  {
   "cell_type": "code",
   "execution_count": 5,
   "metadata": {
    "collapsed": true
   },
   "outputs": [],
   "source": [
    "#Draw a circle\n",
    "image=np.zeros((512,512,3),np.uint8)\n",
    "cv2.circle(image,(350,350),100,(15,75,10),-1)\n",
    "cv2.imshow(\"Circle\", image)\n",
    "cv2.waitKey()\n",
    "cv2.destroyAllWindows()\n"
   ]
  },
  {
   "cell_type": "markdown",
   "metadata": {},
   "source": [
    "# And Polygons?\n"
   ]
  },
  {
   "cell_type": "code",
   "execution_count": 8,
   "metadata": {
    "collapsed": true
   },
   "outputs": [],
   "source": [
    "#Draw a polygon\n",
    "image=np.zeros((512,512,3),np.uint8)\n",
    "#lets define four points\n",
    "pts=np.array([[10,50],[400,50],[90,200],[50,500]],np.int32)\n",
    "\n",
    "#lets now reshape our points in the form required by polylines()\n",
    "pts=pts.reshape((-1,1,2))\n",
    "\n",
    "cv2.polylines(image,[pts],True,(0,0,255),3) #True= CLosed Polygon , Flase= open polygon\n",
    "\n",
    "cv2.imshow(\"Polygon\", image)\n",
    "cv2.waitKey()\n",
    "cv2.destroyAllWindows()"
   ]
  },
  {
   "cell_type": "markdown",
   "metadata": {},
   "source": [
    "# Lets even add text with cv2.putText()\n",
    "cv2.putText(image,'Text to display',bootom left starting point,Font,font size,color,thickness)\n",
    ":- FONT_HERSHEY_SIMPLEX, FONT_HERSHEY_PLAIN\n",
    ":- FONT_HERSHEY_DUPLEX, FONT_HERSHEY_COMPLEX\n",
    ":- FONT_HERSHEY_TRIPLEX, FONT_HERSHEY_COMPLEX_SMALL\n",
    ":- FONT_HERSHEY_SCRIPT_SIMPLEX\n",
    ":- FONT_HERSHEY_SCRIPT_COMPLEX"
   ]
  },
  {
   "cell_type": "code",
   "execution_count": 10,
   "metadata": {
    "collapsed": true
   },
   "outputs": [],
   "source": [
    "image=np.zeros((512,512,3),np.uint8)\n",
    "cv2.putText(image,'Hello World!',(75,290),cv2.FONT_HERSHEY_COMPLEX,2,(100,170,0),3)\n",
    "cv2.imshow(\"Hello World!\",image)\n",
    "cv2.waitKey()\n",
    "cv2.destroyAllWindows()"
   ]
  },
  {
   "cell_type": "code",
   "execution_count": null,
   "metadata": {
    "collapsed": true
   },
   "outputs": [],
   "source": []
  }
 ],
 "metadata": {
  "kernelspec": {
   "display_name": "Python 3",
   "language": "python",
   "name": "python3"
  },
  "language_info": {
   "codemirror_mode": {
    "name": "ipython",
    "version": 3
   },
   "file_extension": ".py",
   "mimetype": "text/x-python",
   "name": "python",
   "nbconvert_exporter": "python",
   "pygments_lexer": "ipython3",
   "version": "3.6.3"
  }
 },
 "nbformat": 4,
 "nbformat_minor": 2
}
