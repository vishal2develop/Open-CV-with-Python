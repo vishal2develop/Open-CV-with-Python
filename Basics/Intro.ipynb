{
 "cells": [
  {
   "cell_type": "code",
   "execution_count": 1,
   "metadata": {
    "collapsed": true
   },
   "outputs": [],
   "source": [
    "#importing OpenCV and numpy\n",
    "import cv2 \n",
    "import numpy as np"
   ]
  },
  {
   "cell_type": "code",
   "execution_count": 3,
   "metadata": {},
   "outputs": [],
   "source": [
    "#load an image using 'imread' specifying path to image\n",
    "input=cv2.imread('./images/input.jpg')\n",
    "#To display we use 'imshow' and pass 2 parameters:\n",
    "#1. Title = String\n",
    "#2. Image Variable= input\n",
    "\n",
    "cv2.imshow('Hello World', input)\n",
    "\n",
    "#'waitkey' allows user to input info when image window is open, e.g: any key or escape character\n",
    "#in our case it waits for a specific time before closing\n",
    "cv2.waitKey()\n",
    "\n",
    "#It is important to destroy or kill the windows once the task is completed or the program will hang\n",
    "\n",
    "cv2.destroyAllWindows()\n"
   ]
  },
  {
   "cell_type": "code",
   "execution_count": 7,
   "metadata": {},
   "outputs": [
    {
     "name": "stdout",
     "output_type": "stream",
     "text": [
      "Height:  350\n",
      "Weight:  350\n"
     ]
    }
   ],
   "source": [
    "#same as above without comments\n",
    "import cv2\n",
    "import numpy as np\n",
    "\n",
    "input=cv2.imread('./images/input.jpg')\n",
    "cv2.imshow('Hello', input)\n",
    "cv2.waitKey()\n",
    "cv2.destroyAllWindows()\n",
    "print (\"Height: \", int(input.shape[0]))\n",
    "print (\"Weight: \", int(input.shape[1]))\n",
    "\n"
   ]
  },
  {
   "cell_type": "markdown",
   "metadata": {},
   "source": [
    "# How to save images we edit in openCV?"
   ]
  },
  {
   "cell_type": "code",
   "execution_count": 8,
   "metadata": {},
   "outputs": [
    {
     "data": {
      "text/plain": [
       "True"
      ]
     },
     "execution_count": 8,
     "metadata": {},
     "output_type": "execute_result"
    }
   ],
   "source": [
    "#Using 'imwrite' and specifying the file name and the file to be saved as parameters.\n",
    "cv2.imwrite('output.png',input)"
   ]
  },
  {
   "cell_type": "code",
   "execution_count": null,
   "metadata": {
    "collapsed": true
   },
   "outputs": [],
   "source": []
  }
 ],
 "metadata": {
  "kernelspec": {
   "display_name": "Python 3",
   "language": "python",
   "name": "python3"
  },
  "language_info": {
   "codemirror_mode": {
    "name": "ipython",
    "version": 3
   },
   "file_extension": ".py",
   "mimetype": "text/x-python",
   "name": "python",
   "nbconvert_exporter": "python",
   "pygments_lexer": "ipython3",
   "version": "3.6.3"
  }
 },
 "nbformat": 4,
 "nbformat_minor": 2
}
