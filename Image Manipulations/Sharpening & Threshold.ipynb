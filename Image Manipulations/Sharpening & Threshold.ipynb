{
 "cells": [
  {
   "cell_type": "markdown",
   "metadata": {},
   "source": [
    "# Sharpening - it is the opposite of blurring and emphasizes edges in images.\n",
    "It uses the cv2.filter2D()"
   ]
  },
  {
   "cell_type": "code",
   "execution_count": 1,
   "metadata": {
    "collapsed": true
   },
   "outputs": [],
   "source": [
    "import cv2\n",
    "import numpy as np\n",
    "img=cv2.imread('./images/input.jpg')\n",
    "cv2.imshow(\"Original\",img)\n",
    "cv2.waitKey()\n",
    "\n",
    "#Create our sharpeing kernel, we dont normalize since the values in the matrix sum to 1\n",
    "\n",
    "kernel_sharp=np.array([[-1,-1,-1],\n",
    "                       [-1,9,-1],\n",
    "                       [-1,-1,-1]])\n",
    "sharpened=cv2.filter2D(img,-1,kernel_sharp)\n",
    "cv2.imshow(\"Sharpened Image\",sharpened)\n",
    "cv2.waitKey()\n",
    "cv2.destroyAllWindows()"
   ]
  },
  {
   "cell_type": "markdown",
   "metadata": {
    "collapsed": true
   },
   "source": [
    "# Thresholding, Binarization & Adaptive Thresholding \n",
    "Thresholding is the act of converting an image to binary form.\n",
    "  cv2.threshold(image,threshold value, max value,threshold type)\n",
    "  1. cv2.THRESH_BINARY - Most Common\n",
    "  2. cv2.THRESH_BINARY_INV - Most Common\n",
    "  3. cv2.THRESH_TRUNC \n",
    "  4. cv2.THRESH_TOZERO\n",
    "  5. cv2.THRESH_TOZERO_INV\n",
    "  \n",
    "  Note: Image need to be converted to grayscale before thresholding"
   ]
  },
  {
   "cell_type": "code",
   "execution_count": 9,
   "metadata": {
    "collapsed": true
   },
   "outputs": [],
   "source": [
    "import cv2\n",
    "import numpy as np\n",
    "img=cv2.imread('./images/input.jpg',0)\n",
    "#gray_img=cv2.cvtColor(img,cv2.COLOR_BGR2GRAY)\n",
    "cv2.imshow(\"Original\",img)\n",
    "cv2.waitKey()\n",
    "\n",
    "\n",
    "#Values below 127 go to 0 (black)and above 127 go to 255(white)\n",
    "\n",
    "ret,thresh1=cv2.threshold(img,127,255,cv2.THRESH_BINARY)\n",
    "cv2.imshow(\"Binary Threshold\",thresh1)\n",
    "cv2.waitKey()\n",
    "\n",
    "#The inverse or opposite of above\n",
    "\n",
    "ret,thresh2=cv2.threshold(img,127,255,cv2.THRESH_BINARY_INV)\n",
    "cv2.imshow(\"Binary Threshold Inverse\",thresh2)\n",
    "cv2.waitKey()\n",
    "\n",
    "#Truncate (Hold) values above 127 to 127 and below 127 to 0\n",
    "ret,thresh3=cv2.threshold(img,127,255,cv2.THRESH_TRUNC)\n",
    "cv2.imshow(\"Truncate Threshold\",thresh3)\n",
    "cv2.waitKey()\n",
    "\n",
    "#Values below 127 go to 0 (black) and above 127 remain unchanged\n",
    "ret,thresh4=cv2.threshold(img,127,255,cv2.THRESH_TOZERO)\n",
    "cv2.imshow(\"To Zero Threshold\",thresh4)\n",
    "cv2.waitKey()\n",
    "\n",
    "#Inverse of above\n",
    "ret,thresh5=cv2.threshold(img,127,255,cv2.THRESH_TOZERO_INV)\n",
    "cv2.imshow(\"To Zero Inverse Threshold\",thresh5)\n",
    "cv2.waitKey()\n",
    "cv2.destroyAllWindows()"
   ]
  },
  {
   "cell_type": "markdown",
   "metadata": {},
   "source": [
    "# Adaptive Thresholding - It takes away the uncertainity of passing the threshold value every time\n",
    "\n",
    "cv2.adaptiveThreshold(img,max value,adaptive threshold type,threshold type, block size,constant that is subtracted from mean)\n",
    "\n",
    "Note: Block sizes need to be odd numbers.  \n",
    "\n",
    "Types: \n",
    "1. ADAPTIVE_THRESH_MEAN_C - based on mean of the neighbourhood pixels\n",
    "2. ADAPTIVE_THRESH_GAUSSIAN_C - Weighted sum of neighbourhood pixels under the Gaussian window\n",
    "3. THRESH_OTSU (uses cv2.threshold function) - Clever algo, assumes there are two peaks in the gray scale histogram of the image and then tries to find an optimal value to seperate these two peaks to find T.\n",
    "\n"
   ]
  },
  {
   "cell_type": "code",
   "execution_count": 1,
   "metadata": {},
   "outputs": [],
   "source": [
    "import cv2\n",
    "import numpy as np\n",
    "img=cv2.imread('./images/input.jpg',0)\n",
    "#gray_img=cv2.cvtColor(img,cv2.COLOR_BGR2GRAY)\n",
    "cv2.imshow(\"Original\",img)\n",
    "cv2.waitKey()\n",
    "\n",
    "\n",
    "#Values below 127 go to 0 (black)and above 127 go to 255(white)\n",
    "\n",
    "ret,thresh1=cv2.threshold(img,127,255,cv2.THRESH_BINARY)\n",
    "cv2.imshow(\"Binary Threshold\",thresh1)\n",
    "cv2.waitKey()\n",
    "\n",
    "#It's good practice to blur images as it removes noise\n",
    "\n",
    "image=cv2.GaussianBlur(img,(3,3),0)\n",
    "\n",
    "# using adaptive thresholding\n",
    "thresh_adapt=cv2.adaptiveThreshold(image,255,cv2.ADAPTIVE_THRESH_MEAN_C,cv2.THRESH_BINARY,3,5)\n",
    "cv2.imshow(\"Adaptive Mean Threshold\",thresh_adapt)\n",
    "cv2.waitKey()\n",
    "\n",
    "#Otsu's Thresholding\n",
    "\n",
    "_,th2=cv2.threshold(image,0,255,cv2.THRESH_BINARY+cv2.THRESH_OTSU)\n",
    "cv2.imshow(\"OTSU's Thresholding\",th2)\n",
    "cv2.waitKey()\n",
    "\n",
    "# Otsu's Thresholding after Gaussian Filter\n",
    "\n",
    "blur=cv2.GaussianBlur(img,(5,5),0)\n",
    "\n",
    "_,th3=cv2.threshold(blur,0,255,cv2.THRESH_BINARY+cv2.THRESH_OTSU)\n",
    "\n",
    "cv2.imshow(\"OTSU's Thresholding after Gaussain Filter\",th3)\n",
    "cv2.waitKey()\n",
    "\n",
    "cv2.destroyAllWindows()"
   ]
  },
  {
   "cell_type": "markdown",
   "metadata": {
    "collapsed": true
   },
   "source": [
    "# Dilation & Erosion \n",
    "1. Dilation : Adds pixels to the boundaries of objects in an image\n",
    "2. Erosion : Removes pixels at the boundaries of objects in an image\n",
    "3. Openeing : Erosion Followed by Dilation\n",
    "4. Closing : Dilation Followed by erosion\n"
   ]
  },
  {
   "cell_type": "code",
   "execution_count": 4,
   "metadata": {
    "collapsed": true
   },
   "outputs": [],
   "source": [
    "import cv2\n",
    "import numpy as np\n",
    "\n",
    "#load image\n",
    "img=cv2.imread('./images/open.png')\n",
    "cv2.imshow(\"Original\",img)\n",
    "cv2.waitKey()\n",
    "#Define our kernel\n",
    "kernel=np.ones((5,5),np.uint8)\n",
    "\n",
    "#Now, we erode\n",
    "erode=cv2.erode(img,kernel,iterations=1)\n",
    "cv2.imshow(\"Erosion Image\",erode)\n",
    "cv2.waitKey()\n",
    "\n",
    "#Now, we dilate\n",
    "\n",
    "dilate= cv2.dilate(img,kernel,iterations=1)\n",
    "cv2.imshow(\"Dilation Image\",dilate)\n",
    "cv2.waitKey()\n",
    "\n",
    "#Opening - good for removing noise\n",
    "\n",
    "opening=cv2.morphologyEx(img,cv2.MORPH_OPEN,kernel)\n",
    "cv2.imshow(\"Open Image\",opening)\n",
    "cv2.waitKey()\n",
    "\n",
    "#Closing - good for removing noise\n",
    "\n",
    "closing=cv2.morphologyEx(img,cv2.MORPH_CLOSE,kernel)\n",
    "cv2.imshow(\"Close Image\",closing)\n",
    "cv2.waitKey()\n",
    "\n",
    "cv2.destroyAllWindows()\n"
   ]
  },
  {
   "cell_type": "code",
   "execution_count": null,
   "metadata": {
    "collapsed": true
   },
   "outputs": [],
   "source": []
  },
  {
   "cell_type": "code",
   "execution_count": null,
   "metadata": {
    "collapsed": true
   },
   "outputs": [],
   "source": []
  }
 ],
 "metadata": {
  "kernelspec": {
   "display_name": "Python 3",
   "language": "python",
   "name": "python3"
  },
  "language_info": {
   "codemirror_mode": {
    "name": "ipython",
    "version": 3
   },
   "file_extension": ".py",
   "mimetype": "text/x-python",
   "name": "python",
   "nbconvert_exporter": "python",
   "pygments_lexer": "ipython3",
   "version": "3.6.3"
  }
 },
 "nbformat": 4,
 "nbformat_minor": 2
}
