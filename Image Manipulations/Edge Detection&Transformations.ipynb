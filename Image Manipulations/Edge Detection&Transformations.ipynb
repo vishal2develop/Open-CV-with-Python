{
 "cells": [
  {
   "cell_type": "markdown",
   "metadata": {},
   "source": [
    "# Edge Detection & Image Gradients"
   ]
  },
  {
   "cell_type": "markdown",
   "metadata": {},
   "source": [
    "# Edge Detection Algos:\n",
    "1. Sobel - to emphasize vertical or horizontal edges\n",
    "2. Laplacian - Gets all orientations\n",
    "3. Canny - Optimal due to low error rate, well defined edges and accurate detection"
   ]
  },
  {
   "cell_type": "markdown",
   "metadata": {},
   "source": [
    "# Canny Edge Detection Algo: Developed by John F. Canny in 1986\n",
    "1. Applies Gaussuan blurring\n",
    "2. Finds intensity gradient of the image\n",
    "3. Applied Non-maximum supression (i.e. reomves pixels that are not edges)\n",
    "4. Hysterisis - Applies thresholds (i.e. if pixel is within the upper and lower thresholds, it is considered an edge)\n"
   ]
  },
  {
   "cell_type": "code",
   "execution_count": 5,
   "metadata": {
    "collapsed": true
   },
   "outputs": [],
   "source": [
    "import cv2\n",
    "import numpy as np\n",
    "\n",
    "#load image in grayscale\n",
    "img=cv2.imread('./images/input.jpg',0)\n",
    "cv2.imshow(\"Original\",img)\n",
    "cv2.waitKey(0)\n",
    "\n",
    "height,width=img.shape\n",
    "\n",
    "#extract sobel edges\n",
    "\n",
    "sobel_x = cv2.Sobel(img,cv2.CV_64F,0,1,ksize=5)\n",
    "sobel_y= cv2.Sobel(img,cv2.CV_64F,1,0,ksize=5)\n",
    "\n",
    "cv2.imshow(\"Sobel X\",sobel_x)\n",
    "cv2.waitKey(0)\n",
    "\n",
    "cv2.imshow(\"Sobel Y\",sobel_y)\n",
    "cv2.waitKey(0)\n",
    "\n",
    "sobel_Or=cv2.bitwise_or(sobel_x,sobel_y)\n",
    "cv2.imshow(\"Sobel OR\",sobel_Or)\n",
    "cv2.waitKey(0)\n",
    "\n",
    "#laplacian \n",
    "\n",
    "lap=cv2.Laplacian(img,cv2.CV_64F)\n",
    "cv2.imshow(\"Laplacian\",lap)\n",
    "cv2.waitKey(0)\n",
    "\n",
    "#Canny Edge Detection : cv2.Canny(img,threshold 1, threshold 2)\n",
    "#Any gradient value <threshold 1 = non edge\n",
    "#Any gradient value >threshold 1 = edge\n",
    "#Values between threshold1 & threshold2 are either classified as edges or non edges depending on \n",
    "#how their intensities are connected.\n",
    "\n",
    "canny=cv2.Canny(img,50,120)\n",
    "cv2.imshow(\"Canny\",canny)\n",
    "cv2.waitKey(0)\n",
    "\n",
    "\n",
    "\n",
    "\n",
    "cv2.destroyAllWindows()\n",
    "\n"
   ]
  },
  {
   "cell_type": "markdown",
   "metadata": {},
   "source": [
    "# Perspective & Affine Transformations"
   ]
  },
  {
   "cell_type": "markdown",
   "metadata": {},
   "source": [
    "Obtaining the perspective of Non-Affine transformations"
   ]
  },
  {
   "cell_type": "code",
   "execution_count": 1,
   "metadata": {},
   "outputs": [],
   "source": [
    "import cv2\n",
    "import numpy as np\n",
    "from matplotlib import pyplot as plt\n",
    "\n",
    "#load image\n",
    "img=cv2.imread('./images/scan.jpg')\n",
    "cv2.imshow(\"Original\",img)\n",
    "cv2.waitKey(0)\n",
    "\n",
    "#coord of the 4 corners of the original image\n",
    "points_A= np.float32([[320,15],[700,215],[85,610],[530,780]]) #Provide the 4 coordinates of your source image \n",
    "\n",
    "#coord of the 4 corners of the output image\n",
    "#We use a ratio of an A4 paper 1:1.41\n",
    "points_B=np.float32([[0,0],[420,0],[0,594],[420,594]]) #Predefined format for A4\n",
    "\n",
    "#use the two sets of four points to compute the perspective transformation matrix, M \n",
    "\n",
    "M=cv2.getPerspectiveTransform(points_A,points_B)\n",
    "\n",
    "warped=cv2.warpPerspective(img,M,(420,594))\n",
    "cv2.imshow(\"Perspective Transformation\",warped)\n",
    "cv2.waitKey(0)\n",
    "cv2.destroyAllWindows()\n",
    "\n",
    "\n"
   ]
  },
  {
   "cell_type": "markdown",
   "metadata": {},
   "source": [
    "# In affine transforms you only need 3 coordinates to obtain the correct transform"
   ]
  },
  {
   "cell_type": "code",
   "execution_count": 2,
   "metadata": {},
   "outputs": [],
   "source": [
    "import cv2\n",
    "import numpy as np\n",
    "from matplotlib import pyplot as plt\n",
    "\n",
    "#load image\n",
    "img=cv2.imread('./images/scan.jpg')\n",
    "\n",
    "rows,cols,ch=img.shape #ch = channel\n",
    "cv2.imshow(\"Original\",img)\n",
    "cv2.waitKey(0)\n",
    "\n",
    "#coord of the 4 corners of the original image\n",
    "points_A= np.float32([[320,15],[700,215],[85,610]])\n",
    "\n",
    "#coord of the 4 corners of the output image\n",
    "#We use a ratio of an A4 paper 1:1.41\n",
    "points_B=np.float32([[0,0],[420,0],[0,594]]) #Predefined format for A4\n",
    "\n",
    "\n",
    "#use the two sets of four points to compute the perspective transformation matrix, M \n",
    "\n",
    "M=cv2.getAffineTransform(points_A,points_B)\n",
    "\n",
    "warped=cv2.warpAffine(img,M,(cols,rows))\n",
    "cv2.imshow(\"Affine Transformation\",warped)\n",
    "cv2.waitKey(0)\n",
    "cv2.destroyAllWindows()\n",
    "\n",
    "\n",
    "\n",
    "        \n",
    "\n"
   ]
  },
  {
   "cell_type": "code",
   "execution_count": null,
   "metadata": {
    "collapsed": true
   },
   "outputs": [],
   "source": []
  }
 ],
 "metadata": {
  "kernelspec": {
   "display_name": "Python 3",
   "language": "python",
   "name": "python3"
  },
  "language_info": {
   "codemirror_mode": {
    "name": "ipython",
    "version": 3
   },
   "file_extension": ".py",
   "mimetype": "text/x-python",
   "name": "python",
   "nbconvert_exporter": "python",
   "pygments_lexer": "ipython3",
   "version": "3.6.3"
  }
 },
 "nbformat": 4,
 "nbformat_minor": 2
}
