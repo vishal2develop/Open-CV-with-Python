{
 "cells": [
  {
   "cell_type": "markdown",
   "metadata": {},
   "source": [
    "# Translations\n",
    "This is an affine transform that simply shifts the position of an image.\n",
    "We use OpenCV's cv2.warpAffine() to implement these transformations\n"
   ]
  },
  {
   "cell_type": "code",
   "execution_count": 15,
   "metadata": {},
   "outputs": [
    {
     "name": "stdout",
     "output_type": "stream",
     "text": [
      "[[  1.    0.   87.5]\n",
      " [  0.    1.   87.5]]\n"
     ]
    }
   ],
   "source": [
    "import cv2\n",
    "import numpy as np\n",
    "image=cv2.imread('./images/input.jpg')\n",
    "#store height & width of the image\n",
    "height,width=image.shape[:2]\n",
    "#print (height,width)\n",
    "quarter_height,quarter_width=height/4,width/4\n",
    "#print (quarter_height,quarter_width)\n",
    "\n",
    "#  |1 0 Tx|\n",
    "#T=|0 0 Ty|\n",
    "\n",
    "#T is our translation matrix\n",
    "T=np.float32([[1,0,quarter_width],[0,1, quarter_height]])\n",
    "\n",
    "#we use cv2.warpAffine to perform the transformation\n",
    "\n",
    "img_transform=cv2.warpAffine(image,T,(width,height))\n",
    "cv2.imshow(\"Image Transformation\",img_transform)\n",
    "#lets take a look at T\n",
    "print(T)\n",
    "cv2.waitKey(0)\n",
    "cv2.destroyAllWindows()\n"
   ]
  },
  {
   "cell_type": "markdown",
   "metadata": {},
   "source": [
    "# Lets Rotate\n",
    "OpenCV allows you to scale and rotate the same thing using the function\n",
    "cv2.getRotationMatrix2D(rotation_center_x,rotation_center_y,angle of rotation,scale)\n"
   ]
  },
  {
   "cell_type": "markdown",
   "metadata": {},
   "source": [
    "M=|cos@ -sin@;\n",
    "   sin@ cons@|"
   ]
  },
  {
   "cell_type": "code",
   "execution_count": 18,
   "metadata": {},
   "outputs": [
    {
     "name": "stdout",
     "output_type": "stream",
     "text": [
      "[[  6.12323400e-17   1.00000000e+00  -2.84217094e-14]\n",
      " [ -1.00000000e+00   6.12323400e-17   3.50000000e+02]]\n"
     ]
    }
   ],
   "source": [
    "import cv2\n",
    "import numpy as np\n",
    "image=cv2.imread('./images/input.jpg')\n",
    "height,width=image.shape[:2]\n",
    "#Divide by two to rotate the image around its centre\n",
    "rotation_matrix=cv2.getRotationMatrix2D((width/2,height/2),90,1)\n",
    "rotated_image=cv2.warpAffine(image,rotation_matrix,(width,height))\n",
    "\n",
    "cv2.imshow(\"Rotated Image\",rotated_image)\n",
    "#lets take a look at T\n",
    "print(rotation_matrix)\n",
    "cv2.waitKey(0)\n",
    "cv2.destroyAllWindows()\n"
   ]
  },
  {
   "cell_type": "markdown",
   "metadata": {},
   "source": [
    "# To fit the image to the canvas size and avoid the image gettting cropped, we use the cv2.transpose()\n",
    "However it does it only for 90 degree rotations\n"
   ]
  },
  {
   "cell_type": "code",
   "execution_count": 22,
   "metadata": {},
   "outputs": [
    {
     "name": "stdout",
     "output_type": "stream",
     "text": [
      "[[  6.12323400e-17   1.00000000e+00  -2.84217094e-14]\n",
      " [ -1.00000000e+00   6.12323400e-17   3.50000000e+02]]\n"
     ]
    }
   ],
   "source": [
    "#other method\n",
    "img=cv2.imread('./images/input.jpg')\n",
    "rotated_image=cv2.transpose(img)\n",
    "cv2.imshow(\"Rotated Image 2\",rotated_image)\n",
    "#lets take a look at T\n",
    "print(rotation_matrix)\n",
    "cv2.waitKey(0)\n",
    "cv2.destroyAllWindows()"
   ]
  },
  {
   "cell_type": "markdown",
   "metadata": {},
   "source": [
    "# Scaling, Re-sizing and Interpolations\n",
    "Re-sizing is very easy using the cv2.resize(). It's arguments are:  \n",
    "cv2.resize(image,dsize(output image size),x scale, y scale, interploation)\n"
   ]
  },
  {
   "cell_type": "code",
   "execution_count": 3,
   "metadata": {},
   "outputs": [],
   "source": [
    "import cv2\n",
    "import numpy as np\n",
    "#Load our image\n",
    "image=cv2.imread('./images/input.jpg')\n",
    "#Let's make our image 3/4 of it's original size\n",
    "image_scaled=cv2.resize(image,None,fx=0.75,fy=1)\n",
    "cv2.imshow(\"Scaling - Linear Interpolation\",image_scaled)\n",
    "cv2.waitKey(0)\n",
    "\n",
    "\n",
    "#Let's double the size of our image\n",
    "img_scaled=cv2.resize(image,None,fx=2,fy=2,interpolation=cv2.INTER_CUBIC)\n",
    "cv2.imshow(\"Scaling - Cubic Interpolation\",img_scaled)\n",
    "cv2.waitKey(0)\n",
    "\n",
    "# Let's skew the re-sizing by setting exact dimensions \n",
    "img_scaled=cv2.resize(image,(900,400),interpolation=cv2.INTER_AREA)\n",
    "cv2.imshow(\"Scaling - Skewed Size\", img_scaled)\n",
    "cv2.waitKey(0)\n",
    "cv2.destroyAllWindows()\n"
   ]
  },
  {
   "cell_type": "markdown",
   "metadata": {},
   "source": [
    "# Image Pyramiding\n",
    "It refers to either upscaling (enlarging) or downscaling(shrinking images).\n",
    "  It's simply a diff. way of re-sizing that allows us to easily and quickly scale images.\n",
    "   Useful in object detection to scale images each time it looks for an object\n",
    "  "
   ]
  },
  {
   "cell_type": "code",
   "execution_count": 5,
   "metadata": {
    "collapsed": true
   },
   "outputs": [],
   "source": [
    "import cv2\n",
    "image=cv2.imread('./images/input.jpg')\n",
    "\n",
    "smaller=cv2.pyrDown(image) #convert to half its size (width & height)\n",
    "larger=cv2.pyrUp(image) #Makes it twice the size of original image\n",
    "cv2.imshow(\"Original\", image)\n",
    "cv2.imshow(\"Smaller\", smaller)\n",
    "cv2.imshow(\"Larger\", larger)\n",
    "cv2.waitKey(0)\n",
    "cv2.destroyAllWindows()\n",
    "\n"
   ]
  },
  {
   "cell_type": "code",
   "execution_count": null,
   "metadata": {
    "collapsed": true
   },
   "outputs": [],
   "source": []
  }
 ],
 "metadata": {
  "kernelspec": {
   "display_name": "Python 3",
   "language": "python",
   "name": "python3"
  },
  "language_info": {
   "codemirror_mode": {
    "name": "ipython",
    "version": 3
   },
   "file_extension": ".py",
   "mimetype": "text/x-python",
   "name": "python",
   "nbconvert_exporter": "python",
   "pygments_lexer": "ipython3",
   "version": "3.6.3"
  }
 },
 "nbformat": 4,
 "nbformat_minor": 2
}
