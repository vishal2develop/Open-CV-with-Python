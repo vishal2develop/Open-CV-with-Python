{
 "cells": [
  {
   "cell_type": "markdown",
   "metadata": {
    "collapsed": true
   },
   "source": [
    "# Cropping Images\n"
   ]
  },
  {
   "cell_type": "code",
   "execution_count": 1,
   "metadata": {
    "collapsed": true
   },
   "outputs": [],
   "source": [
    "import cv2\n",
    "import numpy as np\n",
    "img=cv2.imread('./images/input.jpg')\n",
    "height,width=img.shape[:2]\n",
    "#Let's get the starting pixel coord (top left of cropping rectangle)\n",
    "start_row,start_col=int(height*.25),int(width*.25)\n",
    "\n",
    "#Let's get the ending pixel coord (Bottom rigth of cropping rectangle)\n",
    "end_row,end_col=int(height*.75),int(width*.75)\n",
    "\n",
    "#Simply use indexing to crop out the rectangle we desire\n",
    "cropped=img[start_row:end_row,start_col:end_col]\n",
    "\n",
    "cv2.imshow(\"Original image\",img)\n",
    "cv2.waitKey(0)\n",
    "cv2.imshow(\"Cropped image\",cropped)\n",
    "cv2.waitKey(0)\n",
    "cv2.destroyAllWindows()\n",
    "\n",
    "\n"
   ]
  },
  {
   "cell_type": "markdown",
   "metadata": {},
   "source": [
    "# Arithmetic Operations - Brightening & Darkening Images"
   ]
  },
  {
   "cell_type": "code",
   "execution_count": 3,
   "metadata": {},
   "outputs": [],
   "source": [
    "image=cv2.imread('./images/input.jpg')\n",
    "#Create a matric=x of ones, then multiply by scaler of 100\n",
    "#This gives us a matrix with same dimensions of our image with all values being 100\n",
    "M=np.ones(image.shape,dtype=\"uint8\")*75\n",
    "\n",
    "#We use this to add this matrix M, to our image \n",
    "#Notice the increase in brightness\n",
    "\n",
    "added=cv2.add(image,M)\n",
    "cv2.imshow(\"Added\",added)\n",
    "cv2.waitKey(0)\n",
    "#Likewise we can also substract \n",
    "#Notice the decrease in brightness\n",
    "\n",
    "subtract=cv2.subtract(image,M)\n",
    "cv2.imshow(\"Subtract\",subtract)\n",
    "cv2.waitKey(0)\n",
    "cv2.destroyAllWindows()\n"
   ]
  },
  {
   "cell_type": "markdown",
   "metadata": {},
   "source": [
    "# Bitwise Operations and Masking\n"
   ]
  },
  {
   "cell_type": "code",
   "execution_count": 5,
   "metadata": {
    "collapsed": true
   },
   "outputs": [],
   "source": [
    "#Two dimensions because it is a grayscale image, if it was colored we would use np.zeros((300,300,3))\n",
    "image=cv2.imread('./images/innput.jpg')\n",
    "square=np.zeros((300,300),np.uint8)\n",
    "cv2.rectangle(square,(50,50),(250,250),255,-2)\n",
    "cv2.imshow(\"Square\",square)\n",
    "cv2.waitKey(0)\n",
    "\n",
    "#Making a ellipse\n",
    "#cv2.ellipse(img,center of the ellipse,axes-half of the size of the ellipse main axes,\n",
    "#rotation angle,start_angle,end_angle,color,thickness)\n",
    "\n",
    "ellipse=np.zeros((300,300),np.uint8)\n",
    "cv2.ellipse(ellipse,(150,150),(150,150),30,0,180,255,-1)\n",
    "\n",
    "cv2.imshow(\"Ellipse\",ellipse)\n",
    "cv2.waitKey(0)\n",
    "cv2.destroyAllWindows()\n"
   ]
  },
  {
   "cell_type": "markdown",
   "metadata": {},
   "source": [
    "# Experimenting with Bitwise Operation & Masking\n"
   ]
  },
  {
   "cell_type": "code",
   "execution_count": 9,
   "metadata": {
    "collapsed": true
   },
   "outputs": [],
   "source": [
    "#Bitwise Or shows only where they intersect\n",
    "And=cv2.bitwise_and(square,ellipse)\n",
    "cv2.imshow(\"Bitwise And\",And)\n",
    "cv2.waitKey(0)\n",
    "# Shows where either square or ellipse is\n",
    "Or=cv2.bitwise_or(square,ellipse)\n",
    "cv2.imshow(\"Bitwise Or\",Or)\n",
    "cv2.waitKey(0)\n",
    "\n",
    "#Shows Where either exist by itself\n",
    "Xor=cv2.bitwise_xor(square,ellipse)\n",
    "cv2.imshow(\"Bitwise Xor\",Xor)\n",
    "cv2.waitKey(0)\n",
    "\n",
    "#Shows everything that isnt a part of the square\n",
    "\n",
    "Not=cv2.bitwise_not(square)\n",
    "cv2.imshow(\"Bitwise Not\",Not)\n",
    "cv2.waitKey(0)\n",
    "### Notice the last operation inverts the image totally\n",
    "cv2.destroyAllWindows()"
   ]
  },
  {
   "cell_type": "markdown",
   "metadata": {},
   "source": [
    "# Convolutions & Blurring"
   ]
  },
  {
   "cell_type": "code",
   "execution_count": 3,
   "metadata": {},
   "outputs": [],
   "source": [
    "import cv2\n",
    "import numpy as np\n",
    "\n",
    "image=cv2.imread('./images/my.jpg')\n",
    "cv2.imshow(\"Original Image\",image)\n",
    "cv2.waitKey(0)\n",
    "\n",
    "# Creating a 3x3 kernel\n",
    "kernel_3x3=np.ones((3,3),np.float32)/9\n",
    "#we use cv2.filter2D() to convolute the kernel with an image\n",
    "blurred=cv2.filter2D(image,-1,kernel_3x3)\n",
    "cv2.imshow(\"Blurred Image\",blurred)\n",
    "cv2.waitKey(0)\n",
    "\n",
    "# Creating a 7x7 kernel\n",
    "kernel_7x7=np.ones((7,7),np.float32)/49\n",
    "blurred2=cv2.filter2D(image,-1,kernel_7x7)\n",
    "cv2.imshow(\"Blurred Image2\",blurred2)\n",
    "cv2.waitKey(0)\n",
    "\n",
    "\n",
    "\n",
    "cv2.destroyAllWindows()\n",
    "\n"
   ]
  },
  {
   "cell_type": "markdown",
   "metadata": {},
   "source": [
    "# Other Commonly used blurring methods in OpenCV"
   ]
  },
  {
   "cell_type": "code",
   "execution_count": 3,
   "metadata": {},
   "outputs": [],
   "source": [
    "import cv2\n",
    "import numpy as np\n",
    "image=cv2.imread('./images/my.jpg')\n",
    "cv2.imshow(\"Original\",image)\n",
    "cv2.waitKey(0)\n",
    "#Averaging Done by convolving the image with a normalized box filter.\n",
    "#This takes the pixels under the box and replaces the central element \n",
    "#Box size needs to be odd and positive\n",
    "\n",
    "blur=cv2.blur(image,(3,3))\n",
    "cv2.imshow('Averaging',blur)\n",
    "cv2.waitKey(0)\n",
    "\n",
    "# Instead of box filter, gaussian kernel\n",
    "\n",
    "Guassian = cv2.GaussianBlur(image,(7,7),0)\n",
    "cv2.imshow('Guassian Blur',Guassian)\n",
    "cv2.waitKey(0)\n",
    "\n",
    "#Takes median of all the pixels under kernel area and central element is replaced with this median value \n",
    "\n",
    "median_blur=cv2.medianBlur(image,5)\n",
    "\n",
    "cv2.imshow('Median Blur',median_blur)\n",
    "cv2.waitKey(0)\n",
    "\n",
    "#Bilateral Blurring is very effective in noise removal while keeping edges sharp\n",
    "\n",
    "bil=cv2.bilateralFilter(image,9,75,75)\n",
    "cv2.imshow('Bilateral Blur',bil)\n",
    "cv2.waitKey(0)\n",
    "cv2.destroyAllWindows()\n"
   ]
  },
  {
   "cell_type": "markdown",
   "metadata": {},
   "source": [
    "# Image De-noising - Non-Local Denoising"
   ]
  },
  {
   "cell_type": "code",
   "execution_count": 5,
   "metadata": {},
   "outputs": [],
   "source": [
    "import numpy as np\n",
    "import cv2\n",
    "image=cv2.imread('./images/my.jpg')\n",
    "#Parameters after None are: filter strength(h) - 5-10 is a good range.\n",
    "#Next is hForColorComponents, which is set as same value as H again\n",
    "\n",
    "dst=cv2.fastNlMeansDenoisingColored (image,None,6,6,7,21)\n",
    "cv2.imshow(\"Fast means Denoising\",dst)\n",
    "cv2.waitKey(0)\n",
    "cv2.destroyAllWindows()"
   ]
  },
  {
   "cell_type": "markdown",
   "metadata": {},
   "source": [
    "# There are 4 variations of Non Local Means Denoising:\n",
    "\n",
    "1. cv2.fastNlMeansDenoising() - works with a single grayscale image\n",
    "2. cv2.fastNlMeansDenoisingColored() - works with a color image\n",
    "3. cv2.fastNlMeansDenoisingMulti() - works with image sequence captured in short period of time (grayscale images)\n",
    "4. cv2.fastNlMeansDenoisingColoredMulti() - same as above, but for color images"
   ]
  },
  {
   "cell_type": "code",
   "execution_count": null,
   "metadata": {
    "collapsed": true
   },
   "outputs": [],
   "source": []
  }
 ],
 "metadata": {
  "kernelspec": {
   "display_name": "Python 3",
   "language": "python",
   "name": "python3"
  },
  "language_info": {
   "codemirror_mode": {
    "name": "ipython",
    "version": 3
   },
   "file_extension": ".py",
   "mimetype": "text/x-python",
   "name": "python",
   "nbconvert_exporter": "python",
   "pygments_lexer": "ipython3",
   "version": "3.6.3"
  }
 },
 "nbformat": 4,
 "nbformat_minor": 2
}
