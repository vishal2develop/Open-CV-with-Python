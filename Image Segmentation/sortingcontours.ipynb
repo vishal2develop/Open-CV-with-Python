{
 "cells": [
  {
   "cell_type": "markdown",
   "metadata": {},
   "source": [
    "# Image Segmentation\n",
    "It is the partitioning of images into different regions \n",
    "\n",
    "\n",
    "# Contours\n",
    "They are continuous lines or curves that bound or cover the full boundary of an object in an image.\n",
    "\n",
    "\n",
    "## Useful in :\n",
    "1. Object Detection\n",
    "2. Shape Analysis\n"
   ]
  },
  {
   "cell_type": "code",
   "execution_count": 2,
   "metadata": {},
   "outputs": [
    {
     "name": "stdout",
     "output_type": "stream",
     "text": [
      "Number of Contours found = 63\n"
     ]
    }
   ],
   "source": [
    "import cv2\n",
    "import numpy as np\n",
    "\n",
    "image = cv2.imread('./images/input.jpg')\n",
    "cv2.imshow('Input Image', image)\n",
    "cv2.waitKey(0)\n",
    "##Convert to gray scale. Colored images won't work  with openCV\n",
    "gray = cv2.cvtColor(image, cv2.COLOR_BGR2GRAY)\n",
    "\n",
    "### Find canny edges, it is not necessary, but good to reduce the number of unnecessary contours when doing findcontours\n",
    "edged = cv2.Canny(gray, 30, 200)\n",
    "cv2.imshow('Canny Edges', edged)\n",
    "cv2.waitKey(0)\n",
    "\n",
    "##Finding Contours\n",
    "## Use a copy of your image e.g. edged.copy(), since findCountours alters the image\n",
    "_, contours, hierarchy = cv2.findContours(edged, cv2.RETR_LIST, cv2.CHAIN_APPROX_SIMPLE)  ## Change cv2.RETR_EXTERNAL to cv2.RETR_LIST\n",
    "cv2.imshow('Canny Edges after Contouring', edged)\n",
    "cv2.waitKey(0)\n",
    "\n",
    "print('Number of Contours found = ' + str(len(contours)))\n",
    "\n",
    "# Draw all Contours\n",
    "## use '-1' as the 3rd parameter to draw all\n",
    "cv2.drawContours(image, contours, -1, (0,255,0), 3)\n",
    "\n",
    "cv2.imshow('Contours', image)\n",
    "cv2.waitKey(0)\n",
    "cv2.destroyAllWindows()\n",
    "\n"
   ]
  },
  {
   "cell_type": "markdown",
   "metadata": {},
   "source": [
    "### Retrieval Modes:\n",
    "###CV_RETR_EXTERNAL retrieves only the extreme outer contours. It sets hierarchy[i][2]=hierarchy[i][3]=-1 for all the contours.\n",
    "###CV_RETR_LIST retrieves all of the contours without establishing any hierarchical relationships.\n",
    "###CV_RETR_CCOMP retrieves all of the contours and organizes them into a two-level hierarchy. At the top level, there are external boundaries of the components. At the second level, there are boundaries of the holes. If there is another contour inside a hole of a connected component, it is still put at the top level.\n",
    "###CV_RETR_TREE retrieves all of the contours and reconstructs a full hierarchy of nested contours. This full hierarchy is built and shown in the OpenCV contours.c demo.\n",
    "######method –\n",
    "###Contour approximation method (if you use Python see also a note below).\n",
    "### Approximation modes\n",
    "###CV_CHAIN_APPROX_NONE stores absolutely all the contour points. That is, any 2 subsequent points (x1,y1) and (x2,y2) of the contour will be either horizontal, vertical or diagonal neighbors, that is, max(abs(x1-x2),abs(y2-y1))==1.\n",
    "###CV_CHAIN_APPROX_SIMPLE compresses horizontal, vertical, and diagonal segments and leaves only their end points. For example, an up-right rectangular contour is encoded with 4 points.\n",
    "###CV_CHAIN_APPROX_TC89_L1,CV_CHAIN_APPROX_TC89_KCOS applies one of the flavors of the Teh-Chin chain approximation algorithm. See [TehChin89] for details.\n",
    "###offset – Optional offset by which every contour point is shifted. This is useful if the contours are extracted from the image ROI and then they should be analyzed in the whole image context."
   ]
  },
  {
   "cell_type": "markdown",
   "metadata": {
    "collapsed": true
   },
   "source": [
    "# Sorting Contours\n",
    "It is quite useful when doing image processing.\n",
    "Sorting by area can assist in object recognition (using contour area)\n",
    "1. Eliminate small contours that nay be noise\n",
    "    OR\n",
    "2. Extract the largest contour\n",
    "\n",
    "# Sorting by Spatial Position (using the contour centroid)\n",
    "1. Sort characters left to right\n",
    "    OR\n",
    "2. Process images in specific order\n",
    "\n"
   ]
  },
  {
   "cell_type": "code",
   "execution_count": 3,
   "metadata": {},
   "outputs": [
    {
     "name": "stdout",
     "output_type": "stream",
     "text": [
      "Number of contours found =  3\n"
     ]
    }
   ],
   "source": [
    "import cv2\n",
    "import numpy as np\n",
    "# Load image\n",
    "image=cv2.imread('./images/shapes.jpg')\n",
    "cv2.imshow(\"0-Original Image\",image)\n",
    "cv2.waitKey(0)\n",
    "\n",
    "#create a black image with same dimensions as our loaded image\n",
    "\n",
    "black_image=np.zeros((image.shape[0],image.shape[1],3))\n",
    "#print(black_image)\n",
    "#create a copy of our original image\n",
    "\n",
    "original_image=image\n",
    "\n",
    "#Grayscale our image\n",
    "gray=cv2.cvtColor(image,cv2.COLOR_BGR2GRAY)\n",
    "\n",
    "#Find Canny edges\n",
    "\n",
    "canny=cv2.Canny(gray,50,200)\n",
    "cv2.imshow(\"1 - Canny Edges\",canny)\n",
    "cv2.waitKey(0)\n",
    "\n",
    "#Find Contours and print how many were found\n",
    "\n",
    "_,contours,hierarchy=cv2.findContours(canny,cv2.RETR_EXTERNAL,cv2.CHAIN_APPROX_NONE)\n",
    "print(\"Number of contours found = \",len(contours))\n",
    "\n",
    "#Draw all contours over black_image\n",
    "\n",
    "cv2.drawContours(black_image,contours,-1,(0,255,0),3)\n",
    "cv2.imshow('2 - All Contours over black-image',black_image)\n",
    "cv2.waitKey(0)\n",
    "\n",
    "#Draw all contours over image\n",
    "\n",
    "cv2.drawContours(image,contours,-1,(0,255,0),3)\n",
    "cv2.imshow(\"3 - All Contours\",image)\n",
    "cv2.waitKey(0)\n",
    "cv2.destroyAllWindows()\n",
    "\n"
   ]
  },
  {
   "cell_type": "markdown",
   "metadata": {},
   "source": [
    "# Lets now sort by area\n"
   ]
  },
  {
   "cell_type": "code",
   "execution_count": 5,
   "metadata": {},
   "outputs": [
    {
     "name": "stdout",
     "output_type": "stream",
     "text": [
      "Contour areas before sorting\n",
      "[10751.5]\n",
      "Contour areas after sorting\n",
      "[10751.5]\n"
     ]
    }
   ],
   "source": [
    "import cv2\n",
    "import numpy as np\n",
    "\n",
    "def get_contour_areas(contours):\n",
    "    #returns the areas of all contours as a list\n",
    "    all_areas=[]\n",
    "    for cnt in contours:\n",
    "        area=cv2.contourArea(cnt)\n",
    "        all_areas.append(area)\n",
    "        return all_areas\n",
    "    \n",
    "# Load image\n",
    "image=cv2.imread('./images/shapes.jpg')\n",
    "original_image=image\n",
    "\n",
    "#Lets print the areas of the contours before sorting\n",
    "print(\"Contour areas before sorting\")\n",
    "print (get_contour_areas(contours))\n",
    "\n",
    "#Sort contours large to small\n",
    "\n",
    "sorted_contours= sorted(contours,key=cv2.contourArea,reverse=True)\n",
    "\n",
    "print(\"Contour areas after sorting\")\n",
    "print (get_contour_areas(contours))\n",
    "\n",
    "#Iterate over our contour's and draw one at a time\n",
    "for c in sorted_contours:\n",
    "    cv2.drawContours(original_image,[c],-1,(255,0,0),3)\n",
    "    cv2.waitKey(0)\n",
    "    \n",
    "cv2.imshow(\"Contours by area\",original_image)\n",
    "cv2.waitKey(0)\n",
    "\n",
    "cv2.destroyAllWindows()\n",
    "\n"
   ]
  },
  {
   "cell_type": "markdown",
   "metadata": {
    "collapsed": true
   },
   "source": [
    "# Approximating Contours and finding their convex hull.\n",
    "\n",
    "cv2.approxPolyDP(contour,Approximation accuracy, closed)\n",
    "1. Contour - is the individual contour we wish to approximate\n",
    "2. Approximation Accuracy - Important Parameter is determining the accuracy of the approximation. Small values give precise- approximations, large values give more generic approximation. A good rule of thumb is less than 5% of the contour perimeter.\n",
    "\n",
    "3. Closed - a boolean value that states whether the approximate contour should be opened or closed.   "
   ]
  },
  {
   "cell_type": "code",
   "execution_count": null,
   "metadata": {},
   "outputs": [],
   "source": [
    "\n",
    "import numpy as np\n",
    "import cv2\n",
    "\n",
    "# Load image and keep a copy\n",
    "\n",
    "image=cv2.imread('./images/house.jpg')\n",
    "orig_image= image.copy()\n",
    "cv2.imshow(\"Original image\",orig_image)\n",
    "cv2.waitKey(0)\n",
    "\n",
    "#Grayscale and binarize\n",
    "\n",
    "gray=cv2.cvtColor(image,cv2.COLOR_BGR2GRAY)\n",
    "ret, thresh = cv2.threshold(gray, 127,255,cv2.THRESH_BINARY_INV)\n",
    "\n",
    "#Find Contours\n",
    "\n",
    "contours,hierarchy = cv2.findContours(thresh.copy(),cv2.RETR_LIST,cv2.CHAIN_APPROX_SIMPLE)\n",
    "\n",
    "#Iterate through each contour and compute the bounding rectangle \n",
    "\n",
    "for c in counters:\n",
    "    x,y,w,h=cv2.boundingRect(c)\n",
    "    cv2.rectangle(orig_image,(x,y),(x+w,y+h),(0,0,255),2)\n",
    "    cv2.imshow(\"Bounding Rectangle\", orig_image)\n",
    "    cv2.waitKey(0)\n",
    "    \n",
    "#Iterate through each contour and compute the bounding rectangle \n",
    "\n",
    "for c in contours:\n",
    "    accuracy=0.03*cv2.arcLength(c,True)\n",
    "    approx=cv2.approxPolyDP(c,accuracy,true)\n",
    "    cv2.drawContours(image,[approx],0,(0,255,0),2)\n",
    "    cv2.imshow(\"Approx Poly DP\",image)\n",
    "    cv2.waitKey(0)\n",
    "    cv2.destroyAllWindows()"
   ]
  },
  {
   "cell_type": "markdown",
   "metadata": {},
   "source": [
    "# Convex Hull\n",
    "\n"
   ]
  },
  {
   "cell_type": "code",
   "execution_count": 1,
   "metadata": {},
   "outputs": [
    {
     "ename": "ValueError",
     "evalue": "too many values to unpack (expected 2)",
     "output_type": "error",
     "traceback": [
      "\u001b[1;31m---------------------------------------------------------------------------\u001b[0m",
      "\u001b[1;31mValueError\u001b[0m                                Traceback (most recent call last)",
      "\u001b[1;32m<ipython-input-1-45ff1f06edde>\u001b[0m in \u001b[0;36m<module>\u001b[1;34m()\u001b[0m\n\u001b[0;32m     15\u001b[0m \u001b[1;31m#Find Contours\u001b[0m\u001b[1;33m\u001b[0m\u001b[1;33m\u001b[0m\u001b[0m\n\u001b[0;32m     16\u001b[0m \u001b[1;33m\u001b[0m\u001b[0m\n\u001b[1;32m---> 17\u001b[1;33m \u001b[0mcontours\u001b[0m\u001b[1;33m,\u001b[0m\u001b[0mhierarchy\u001b[0m \u001b[1;33m=\u001b[0m \u001b[0mcv2\u001b[0m\u001b[1;33m.\u001b[0m\u001b[0mfindContours\u001b[0m\u001b[1;33m(\u001b[0m\u001b[0mthresh\u001b[0m\u001b[1;33m.\u001b[0m\u001b[0mcopy\u001b[0m\u001b[1;33m(\u001b[0m\u001b[1;33m)\u001b[0m\u001b[1;33m,\u001b[0m\u001b[0mcv2\u001b[0m\u001b[1;33m.\u001b[0m\u001b[0mRETR_LIST\u001b[0m\u001b[1;33m,\u001b[0m\u001b[0mcv2\u001b[0m\u001b[1;33m.\u001b[0m\u001b[0mCHAIN_APPROX_NONE\u001b[0m\u001b[1;33m)\u001b[0m\u001b[1;33m\u001b[0m\u001b[0m\n\u001b[0m\u001b[0;32m     18\u001b[0m \u001b[1;33m\u001b[0m\u001b[0m\n\u001b[0;32m     19\u001b[0m \u001b[1;31m#Sort the contours by area and then remove the largest frame contour\u001b[0m\u001b[1;33m\u001b[0m\u001b[1;33m\u001b[0m\u001b[0m\n",
      "\u001b[1;31mValueError\u001b[0m: too many values to unpack (expected 2)"
     ]
    }
   ],
   "source": [
    "import numpy as np\n",
    "import cv2\n",
    "\n",
    "# Load image and keep a copy\n",
    "\n",
    "image=cv2.imread('./images/house.jpg')\n",
    "orig_image= image.copy()\n",
    "gray= cv2.cvtColor(image,cv2.COLOR_BGR2GRAY)\n",
    "cv2.imshow('Original Image',orig_image)\n",
    "cv2.waitKey(0)\n",
    "\n",
    "#Threshold the image\n",
    "ret, thresh = cv2.threshold(gray, 127,255,cv2.THRESH_BINARY_INV)\n",
    "\n",
    "#Find Contours\n",
    "\n",
    "contours,hierarchy = cv2.findContours(thresh.copy(),cv2.RETR_LIST,cv2.CHAIN_APPROX_NONE)\n",
    "\n",
    "#Sort the contours by area and then remove the largest frame contour\n",
    "\n",
    "n= len (contours) -1\n",
    "contours=sorted(contours,key=cv2.contourArea,reverse=False)[:n]\n",
    "\n",
    "#Iterate through contours and draw the convex hull\n",
    "\n",
    "for c in contours:\n",
    "    \n",
    "    hull=cv2.convexHull(c)\n",
    "    cv2.drawContours(image,[hull],0,(0,255,0),2)\n",
    "    cv2.imshow('Convex Hull', image)\n",
    "    cv2.waitKey(0)\n",
    "    cv2.destroyAllWindows()\n",
    "    \n",
    "\n",
    "\n",
    "\n"
   ]
  },
  {
   "cell_type": "code",
   "execution_count": null,
   "metadata": {
    "collapsed": true
   },
   "outputs": [],
   "source": []
  }
 ],
 "metadata": {
  "kernelspec": {
   "display_name": "Python 3",
   "language": "python",
   "name": "python3"
  },
  "language_info": {
   "codemirror_mode": {
    "name": "ipython",
    "version": 3
   },
   "file_extension": ".py",
   "mimetype": "text/x-python",
   "name": "python",
   "nbconvert_exporter": "python",
   "pygments_lexer": "ipython3",
   "version": "3.6.3"
  }
 },
 "nbformat": 4,
 "nbformat_minor": 2
}
