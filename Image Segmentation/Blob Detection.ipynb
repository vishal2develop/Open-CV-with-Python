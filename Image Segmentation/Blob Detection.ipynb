{
 "cells": [
  {
   "cell_type": "markdown",
   "metadata": {},
   "source": [
    "# BLOB Detection\n",
    "## They can be described as groups of connected pixels sharing a common property"
   ]
  },
  {
   "cell_type": "markdown",
   "metadata": {},
   "source": [
    " # How to use OpenCVs simpleBlobDetector ?\n",
    " \n",
    "     1. Create Detector\n",
    "     2. Input Image into Detector\n",
    "     3. Obtain key points\n",
    "     4. Draw key points"
   ]
  },
  {
   "cell_type": "code",
   "execution_count": 3,
   "metadata": {
    "collapsed": true
   },
   "outputs": [],
   "source": [
    "import numpy as np;\n",
    "import cv2\n",
    "image=cv2.imread('./images/blob.jpg', 0)\n",
    "\n",
    "\n",
    "#set up detector with default param\n",
    "detector=cv2.SimpleBlobDetector_create()\n",
    "\n",
    "#Detect Blobs\n",
    "keypoints= detector.detect(image)\n",
    "\n",
    "#Draw Detected blobs as red circles.\n",
    "#cv2.DRAW_MATCHES_FLAGS_DRAW_RICH_KEYPOINTS ensures the size of the circle corresponds to the size of the blob\n",
    "\n",
    "blank=np.zeros((1,1))\n",
    "blobs=cv2.drawKeypoints(image,keypoints,blank ,(0,255,255), \n",
    "                        cv2.DRAW_MATCHES_FLAGS_DRAW_RICH_KEYPOINTS)\n",
    "\n",
    "#SHow Keypoints\n",
    "\n",
    "cv2.imshow('Blobs',blobs)\n",
    "cv2.waitKey(0)\n",
    "cv2.destroyAllWindows()\n",
    "\n",
    "\n",
    "\n",
    "\n"
   ]
  },
  {
   "cell_type": "markdown",
   "metadata": {},
   "source": [
    "## Flags\n",
    "\n",
    "  ### cv2.DRAW_MATCHES_FLAGS_DEFAULT, \n",
    "  ### cv2.DRAW_MATCHES_FLAGS_DRAW_RICH_KEYPOINTS,\n",
    "  ### cv2.DRAW_MATCHES_FLAGS_DRAW_OVER_OUTIMG,\n",
    "  ### cv2.DRAW_MATCHES_FLAGS_NOT_DRAW_SINGLE_POINTS"
   ]
  },
  {
   "cell_type": "code",
   "execution_count": null,
   "metadata": {
    "collapsed": true
   },
   "outputs": [],
   "source": []
  }
 ],
 "metadata": {
  "kernelspec": {
   "display_name": "Python 3",
   "language": "python",
   "name": "python3"
  },
  "language_info": {
   "codemirror_mode": {
    "name": "ipython",
    "version": 3
   },
   "file_extension": ".py",
   "mimetype": "text/x-python",
   "name": "python",
   "nbconvert_exporter": "python",
   "pygments_lexer": "ipython3",
   "version": "3.6.3"
  }
 },
 "nbformat": 4,
 "nbformat_minor": 2
}
