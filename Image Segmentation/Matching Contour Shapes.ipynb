{
 "cells": [
  {
   "cell_type": "markdown",
   "metadata": {},
   "source": [
    "# Matching Contours Shapes \n",
    "\n",
    "cv2.matchShapes(contour template,contour,method,method parameter)\n",
    "output- match value (lower value means a closer match)\n",
    "1. Contour template - This is our reference contour that we are trying to find in the new image\n",
    "2. Contour - The individual contour we are checking against\n",
    "3. Method - Type of contour matching (1,2,3)\n",
    "4. Method Parameter - Leave alone as 0.0 (not fully utilized in python OpenCV)"
   ]
  },
  {
   "cell_type": "code",
   "execution_count": 3,
   "metadata": {},
   "outputs": [
    {
     "ename": "ValueError",
     "evalue": "too many values to unpack (expected 2)",
     "output_type": "error",
     "traceback": [
      "\u001b[1;31m---------------------------------------------------------------------------\u001b[0m",
      "\u001b[1;31mValueError\u001b[0m                                Traceback (most recent call last)",
      "\u001b[1;32m<ipython-input-3-f9e8d2be4c79>\u001b[0m in \u001b[0;36m<module>\u001b[1;34m()\u001b[0m\n\u001b[0;32m     19\u001b[0m \u001b[1;31m#Find contours in template\u001b[0m\u001b[1;33m\u001b[0m\u001b[1;33m\u001b[0m\u001b[0m\n\u001b[0;32m     20\u001b[0m \u001b[1;33m\u001b[0m\u001b[0m\n\u001b[1;32m---> 21\u001b[1;33m \u001b[0mcontours\u001b[0m\u001b[1;33m,\u001b[0m \u001b[0mhierarchy\u001b[0m\u001b[1;33m=\u001b[0m\u001b[0mcv2\u001b[0m\u001b[1;33m.\u001b[0m\u001b[0mfindContours\u001b[0m\u001b[1;33m(\u001b[0m\u001b[0mthresh1\u001b[0m\u001b[1;33m,\u001b[0m\u001b[0mcv2\u001b[0m\u001b[1;33m.\u001b[0m\u001b[0mRETR_CCOMP\u001b[0m\u001b[1;33m,\u001b[0m\u001b[0mcv2\u001b[0m\u001b[1;33m.\u001b[0m\u001b[0mCHAIN_APPROX_SIMPLE\u001b[0m\u001b[1;33m)\u001b[0m\u001b[1;33m\u001b[0m\u001b[0m\n\u001b[0m\u001b[0;32m     22\u001b[0m \u001b[1;33m\u001b[0m\u001b[0m\n\u001b[0;32m     23\u001b[0m \u001b[1;31m#We need to sort contours by area to remove the largest contour- the image outline\u001b[0m\u001b[1;33m\u001b[0m\u001b[1;33m\u001b[0m\u001b[0m\n",
      "\u001b[1;31mValueError\u001b[0m: too many values to unpack (expected 2)"
     ]
    }
   ],
   "source": [
    "import cv2\n",
    "import numpy as np\n",
    "#Load the shape template or reference image\n",
    "template=cv2.imread('./images/4star.png',0)\n",
    "cv2.imshow('Template',template)\n",
    "cv2.waitKey(0)\n",
    "cv2.destroyAllWindows()\n",
    "\n",
    "#Load the target image with the shapes we wre trying to match\n",
    "\n",
    "target=cv2.imread('./images/match.png')\n",
    "\n",
    "target_gray=cv2.cvtColor(target,cv2.COLOR_BGR2GRAY)\n",
    "\n",
    "#Threshold both images before using cv2.findContours()\n",
    "ret, thresh1=cv2.threshold(template,127,255,0)\n",
    "ret, thresh2=cv2.threshold(target_gray,127,255,0)\n",
    "\n",
    "#Find contours in template\n",
    "\n",
    "contours, hierarchy=cv2.findContours(thresh1,cv2.RETR_CCOMP,cv2.CHAIN_APPROX_SIMPLE)\n",
    "\n",
    "#We need to sort contours by area to remove the largest contour- the image outline\n",
    "\n",
    "sorted_contours=sorted(contours,key=cv2.contourArea, reverse=True)\n",
    "\n",
    "#Extract second largest contour\n",
    "\n",
    "template_contour=contours[1]\n",
    "\n",
    "#Extract contours from target image\n",
    "\n",
    "contours, hierarchy=cv2.findContours(thresh2, cv2.RETR_CCOMP, cv2.CHAIN_APPROX_SIMPLE)\n",
    "\n",
    "for c in contours:\n",
    "    #Iterate through each contour in the target image and \n",
    "    #use cv2.matchShapes to compare contour shapes\n",
    "    \n",
    "    match=cv2.matchShapes(template_contour,c,1,0.0)\n",
    "    print (match)\n",
    "    \n",
    "    #If the match value is less than 0.15 we\n",
    "    if match<0.15:\n",
    "        closest_contour=c\n",
    "    else:\n",
    "        closest_contour=[]\n",
    "        cv2.drawContours(target,[closest_contours],-1,(0,255,0),3)\n",
    "        cv2.imshow('Output',target)\n",
    "        cv2.waitKey(0)\n",
    "        cv2.destroyAllWindows()\n",
    "    \n",
    "\n",
    "\n",
    "\n"
   ]
  },
  {
   "cell_type": "code",
   "execution_count": null,
   "metadata": {
    "collapsed": true
   },
   "outputs": [],
   "source": []
  },
  {
   "cell_type": "code",
   "execution_count": null,
   "metadata": {
    "collapsed": true
   },
   "outputs": [],
   "source": []
  }
 ],
 "metadata": {
  "kernelspec": {
   "display_name": "Python 3",
   "language": "python",
   "name": "python3"
  },
  "language_info": {
   "codemirror_mode": {
    "name": "ipython",
    "version": 3
   },
   "file_extension": ".py",
   "mimetype": "text/x-python",
   "name": "python",
   "nbconvert_exporter": "python",
   "pygments_lexer": "ipython3",
   "version": "3.6.3"
  }
 },
 "nbformat": 4,
 "nbformat_minor": 2
}
