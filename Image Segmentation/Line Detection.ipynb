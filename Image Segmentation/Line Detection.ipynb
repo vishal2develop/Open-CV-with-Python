{
 "cells": [
  {
   "cell_type": "markdown",
   "metadata": {},
   "source": [
    "# Line Detection\n",
    "## Hough Lines & Probabilistic Hough Lines"
   ]
  },
  {
   "cell_type": "markdown",
   "metadata": {},
   "source": [
    "## p=xcos theta+ysin theta\n",
    "### p= perp. distance from origin, theta= angle formed by the normal of this line to the origin\n"
   ]
  },
  {
   "cell_type": "markdown",
   "metadata": {},
   "source": [
    "# Hough Lines\n",
    "\n",
    "1. cv2.HoughLines(binarized image,p accuracy, theta accuracy, threshold)\n",
    "#### Threshold here is the minimum vote for it to be considered a line \n",
    "\n"
   ]
  },
  {
   "cell_type": "code",
   "execution_count": 11,
   "metadata": {},
   "outputs": [],
   "source": [
    "import cv2\n",
    "import numpy as np\n",
    "\n",
    "image=cv2.imread('./images/line.jpg')\n",
    "# Grayscale and canny edges extracted\n",
    "gray=cv2.cvtColor(image,cv2.COLOR_BGR2GRAY)\n",
    "edges=cv2.Canny(gray,100,170,apertureSize=3) ## canny edges help a bit in transforms\n",
    "\n",
    "### Run Houghlines using a rho accuracy of 1 pixel\n",
    "### theta accuracy of np.pi/180 which is 1 degree\n",
    "### our line threshold is set to 240 (number of points on line)\n",
    "lines=cv2.HoughLines(edges,1,np.pi/180,100)\n",
    "\n",
    "### We iterate through each line and convert it to the format required by cv.lines (i.e., requiring end points)\n",
    "for line in lines:\n",
    "    rho,theta=line[0]\n",
    "    a=np.cos(theta)\n",
    "    b=np.sin(theta)\n",
    "    x0=a*rho\n",
    "    y0=b*rho\n",
    "    x1=int(x0+1000*(-b))\n",
    "    y1=int(y0+1000*(a))\n",
    "    x2=int(x0-1000*(-b))\n",
    "    y2=int(y0-1000*(a))\n",
    "    \n",
    "    cv2.line(image,(x1,y1),(x2,y2),(255,0,0),2)\n",
    "\n",
    "cv2.imshow('Hough Lines',image)\n",
    "cv2.waitKey(0)\n",
    "cv2.destroyAllWindows()\n",
    "    "
   ]
  },
  {
   "cell_type": "markdown",
   "metadata": {},
   "source": [
    "## Probabilistic Hough Lines\n",
    "> Idea is that it takes only a random subset of points sufficient enough for line detection.\n",
    "\n",
    "> Also returns the start and end points of the line unlike the previous function.\n",
    "\n",
    "2. cv2.HoughLinesP(binarized image,p accuracy, theta accuracy, threshold, minimum line length, max line gap)"
   ]
  },
  {
   "cell_type": "code",
   "execution_count": 22,
   "metadata": {},
   "outputs": [
    {
     "name": "stdout",
     "output_type": "stream",
     "text": [
      "(92, 1, 4)\n"
     ]
    }
   ],
   "source": [
    "img=cv2.imread('./images/line.jpg')\n",
    "gray= cv2.cvtColor(img,cv2.COLOR_BGR2GRAY)\n",
    "edges=cv2.Canny(gray,100,170,apertureSize=3)\n",
    "\n",
    "\n",
    "### Again we use the same rho and theta accuracies\n",
    "### However, we specify a minimum vote(points along line) of 100\n",
    "### and min line length of 5 pixels and max gap between lines of 10 pixels\n",
    "lines=cv2.HoughLinesP(edges,1,np.pi/180,100,5,10)\n",
    "print(lines.shape)\n",
    "\n",
    "for line in lines:\n",
    "    x1,y1,x2,y2=line[0]\n",
    "    cv2.line(img, (x1,y1),(x2,y2), (0,255,0),3)\n",
    "    \n",
    "cv2.imshow('Probabilistic Hough Lines',img)\n",
    "cv2.waitKey(0)\n",
    "cv2.destroyAllWindows()\n",
    "\n"
   ]
  },
  {
   "cell_type": "code",
   "execution_count": null,
   "metadata": {
    "collapsed": true
   },
   "outputs": [],
   "source": []
  }
 ],
 "metadata": {
  "kernelspec": {
   "display_name": "Python 3",
   "language": "python",
   "name": "python3"
  },
  "language_info": {
   "codemirror_mode": {
    "name": "ipython",
    "version": 3
   },
   "file_extension": ".py",
   "mimetype": "text/x-python",
   "name": "python",
   "nbconvert_exporter": "python",
   "pygments_lexer": "ipython3",
   "version": "3.6.3"
  }
 },
 "nbformat": 4,
 "nbformat_minor": 2
}
